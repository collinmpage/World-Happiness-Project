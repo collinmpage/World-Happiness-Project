{
 "metadata": {
  "language_info": {
   "codemirror_mode": {
    "name": "ipython",
    "version": 3
   },
   "file_extension": ".py",
   "mimetype": "text/x-python",
   "name": "python",
   "nbconvert_exporter": "python",
   "pygments_lexer": "ipython3",
   "version": "3.8.3"
  },
  "orig_nbformat": 2,
  "kernelspec": {
   "name": "python383jvsc74a57bd0667d68cf64111410b72a441283a6209b2544c5e684c2c1a9bfefef12f60b6f38",
   "display_name": "Python 3.8.3 64-bit ('base': conda)"
  }
 },
 "nbformat": 4,
 "nbformat_minor": 2,
 "cells": [
  {
   "cell_type": "code",
   "execution_count": 34,
   "metadata": {},
   "outputs": [],
   "source": [
    "import json\n",
    "import csv\n",
    "import pandas as pd\n",
    "import geojson"
   ]
  },
  {
   "cell_type": "code",
   "execution_count": 35,
   "metadata": {},
   "outputs": [],
   "source": [
    "# with open ('Cleaned_Data/countries.geojson') as jsondict:\n",
    "    \n",
    "    \n",
    "#      print(jsondict)\n"
   ]
  },
  {
   "cell_type": "code",
   "execution_count": 36,
   "metadata": {
    "tags": []
   },
   "outputs": [],
   "source": [
    "with open('Cleaned_Data/cleaned_2019.csv', newline='') as csvthings:\n",
    "    reader = csv.reader(csvthings)\n",
    "    data = list(reader)\n",
    "#print(data)\n"
   ]
  },
  {
   "cell_type": "code",
   "execution_count": 37,
   "metadata": {},
   "outputs": [
    {
     "output_type": "execute_result",
     "data": {
      "text/plain": [
       "['overall_rank',\n",
       " 'country_or_region',\n",
       " 'happiness_score',\n",
       " 'gdp_per_capita',\n",
       " 'social_support',\n",
       " 'life_expectancy',\n",
       " 'freedom',\n",
       " 'generosity',\n",
       " 'perception_of_government_corruption']"
      ]
     },
     "metadata": {},
     "execution_count": 37
    }
   ],
   "source": [
    "data.pop(0)"
   ]
  },
  {
   "cell_type": "code",
   "execution_count": 38,
   "metadata": {
    "tags": []
   },
   "outputs": [],
   "source": [
    "with open('Cleaned_Data/countries.geojson') as f:\n",
    "    gj = geojson.load(f)\n",
    "\n",
    "features = {}\n",
    "\n",
    "for feature in gj['features']:\n",
    "     country_name = feature['properties']['name_long']\n",
    "     features[country_name] = feature\n",
    "\n",
    "# print(gj)"
   ]
  },
  {
   "cell_type": "code",
   "execution_count": 39,
   "metadata": {
    "tags": []
   },
   "outputs": [],
   "source": [
    "key_list = ['overall_rank', 'country_or_region', 'happiness_score', 'gdp_per_capita', 'social_support', 'life_expectancy', 'freedom', 'generosity', 'perception_of_government_corruption']\n",
    "\n",
    "for lists in data:\n",
    "    csvstuff = {key_list[i]: lists[i] for i in range(len(key_list))}\n",
    "    country_or_region = csvstuff['country_or_region']\n",
    "    if country_or_region in features:\n",
    "        properties = features[country_or_region]['properties'] \n",
    "        for prop, value in csvstuff.items():\n",
    "            properties[prop] = value\n",
    "        features[country_or_region]['properties'] = properties\n",
    "#print(features)"
   ]
  },
  {
   "cell_type": "code",
   "execution_count": 40,
   "metadata": {},
   "outputs": [],
   "source": [
    "new_features = []\n",
    "for prop,value in features.items():\n",
    "    new_features.append(value)\n",
    "\n",
    "# print(new_features)\n",
    "\n",
    "gj['features']=[new_features]\n",
    "# print(gj)"
   ]
  },
  {
   "cell_type": "code",
   "execution_count": 41,
   "metadata": {},
   "outputs": [],
   "source": [
    "with open('Cleaned_Data/json_2019.geojson', 'w') as outfile:\n",
    "    json.dump(gj, outfile)"
   ]
  },
  {
   "cell_type": "code",
   "execution_count": null,
   "metadata": {},
   "outputs": [],
   "source": [
    "#be sure to go through each csv and rename each json_20XX.geojson file to use for graphing different data"
   ]
  }
 ]
}