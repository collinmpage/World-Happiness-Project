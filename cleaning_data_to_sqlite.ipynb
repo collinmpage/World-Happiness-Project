{
 "metadata": {
  "language_info": {
   "codemirror_mode": {
    "name": "ipython",
    "version": 3
   },
   "file_extension": ".py",
   "mimetype": "text/x-python",
   "name": "python",
   "nbconvert_exporter": "python",
   "pygments_lexer": "ipython3",
   "version": "3.8.3"
  },
  "orig_nbformat": 2,
  "kernelspec": {
   "name": "python383jvsc74a57bd0667d68cf64111410b72a441283a6209b2544c5e684c2c1a9bfefef12f60b6f38",
   "display_name": "Python 3.8.3 64-bit ('base': conda)"
  }
 },
 "nbformat": 4,
 "nbformat_minor": 2,
 "cells": [
  {
   "cell_type": "code",
   "execution_count": 1,
   "metadata": {},
   "outputs": [],
   "source": [
    "import pandas as pd\n",
    "from sqlalchemy import create_engine\n",
    "import csv\n",
    "import sqlite3"
   ]
  },
  {
   "cell_type": "code",
   "execution_count": 2,
   "metadata": {},
   "outputs": [],
   "source": [
    "info_2015 = 'data/2015.csv'\n",
    "info_2015_df = pd.read_csv(info_2015)\n",
    "#info_2015_df.head()"
   ]
  },
  {
   "cell_type": "code",
   "execution_count": 3,
   "metadata": {},
   "outputs": [
    {
     "output_type": "execute_result",
     "data": {
      "text/plain": [
       "   Overall Rank Country or Region  Happiness Score  GDP per Capita  \\\n",
       "0             1       Switzerland            7.587         1.39651   \n",
       "1             2           Iceland            7.561         1.30232   \n",
       "2             3           Denmark            7.527         1.32548   \n",
       "3             4            Norway            7.522         1.45900   \n",
       "4             5            Canada            7.427         1.32629   \n",
       "\n",
       "   Social Support (Family)  Life Expectancy  Freedom  Generosity  \\\n",
       "0                  1.34951          0.94143  0.66557     0.29678   \n",
       "1                  1.40223          0.94784  0.62877     0.43630   \n",
       "2                  1.36058          0.87464  0.64938     0.34139   \n",
       "3                  1.33095          0.88521  0.66973     0.34699   \n",
       "4                  1.32261          0.90563  0.63297     0.45811   \n",
       "\n",
       "   Trust (Perception of Government Corruption)  \n",
       "0                                      0.41978  \n",
       "1                                      0.14145  \n",
       "2                                      0.48357  \n",
       "3                                      0.36503  \n",
       "4                                      0.32957  "
      ],
      "text/html": "<div>\n<style scoped>\n    .dataframe tbody tr th:only-of-type {\n        vertical-align: middle;\n    }\n\n    .dataframe tbody tr th {\n        vertical-align: top;\n    }\n\n    .dataframe thead th {\n        text-align: right;\n    }\n</style>\n<table border=\"1\" class=\"dataframe\">\n  <thead>\n    <tr style=\"text-align: right;\">\n      <th></th>\n      <th>Overall Rank</th>\n      <th>Country or Region</th>\n      <th>Happiness Score</th>\n      <th>GDP per Capita</th>\n      <th>Social Support (Family)</th>\n      <th>Life Expectancy</th>\n      <th>Freedom</th>\n      <th>Generosity</th>\n      <th>Trust (Perception of Government Corruption)</th>\n    </tr>\n  </thead>\n  <tbody>\n    <tr>\n      <th>0</th>\n      <td>1</td>\n      <td>Switzerland</td>\n      <td>7.587</td>\n      <td>1.39651</td>\n      <td>1.34951</td>\n      <td>0.94143</td>\n      <td>0.66557</td>\n      <td>0.29678</td>\n      <td>0.41978</td>\n    </tr>\n    <tr>\n      <th>1</th>\n      <td>2</td>\n      <td>Iceland</td>\n      <td>7.561</td>\n      <td>1.30232</td>\n      <td>1.40223</td>\n      <td>0.94784</td>\n      <td>0.62877</td>\n      <td>0.43630</td>\n      <td>0.14145</td>\n    </tr>\n    <tr>\n      <th>2</th>\n      <td>3</td>\n      <td>Denmark</td>\n      <td>7.527</td>\n      <td>1.32548</td>\n      <td>1.36058</td>\n      <td>0.87464</td>\n      <td>0.64938</td>\n      <td>0.34139</td>\n      <td>0.48357</td>\n    </tr>\n    <tr>\n      <th>3</th>\n      <td>4</td>\n      <td>Norway</td>\n      <td>7.522</td>\n      <td>1.45900</td>\n      <td>1.33095</td>\n      <td>0.88521</td>\n      <td>0.66973</td>\n      <td>0.34699</td>\n      <td>0.36503</td>\n    </tr>\n    <tr>\n      <th>4</th>\n      <td>5</td>\n      <td>Canada</td>\n      <td>7.427</td>\n      <td>1.32629</td>\n      <td>1.32261</td>\n      <td>0.90563</td>\n      <td>0.63297</td>\n      <td>0.45811</td>\n      <td>0.32957</td>\n    </tr>\n  </tbody>\n</table>\n</div>"
     },
     "metadata": {},
     "execution_count": 3
    }
   ],
   "source": [
    "cleaned_2015 = info_2015_df.drop(columns=['Region', 'Standard Error', 'Dystopia Residual'])\n",
    "\n",
    "cleaned_2015.rename(columns = {'Happiness Rank': 'Overall Rank', \n",
    "'Country':'Country or Region', \n",
    "'Happiness Score': 'Happiness Score',\n",
    "'Economy (GDP per Capita)': 'GDP per Capita',\n",
    "'Family': 'Social Support (Family)',\n",
    "'Health (Life Expectancy)':'Life Expectancy',\n",
    "'Freedom':'Freedom',\n",
    "'Generosity':'Generosity',\n",
    "'Trust (Government Corruption)':'Trust (Perception of Government Corruption)'}, inplace = True)\n",
    "\n",
    "cleaned_2015_df = pd.DataFrame(cleaned_2015)\n",
    "final_2015_df = cleaned_2015_df[['Overall Rank', 'Country or Region', 'Happiness Score', 'GDP per Capita', 'Social Support (Family)', 'Life Expectancy', 'Freedom', 'Generosity', 'Trust (Perception of Government Corruption)']]\n",
    "\n",
    "final_2015_df.head()"
   ]
  },
  {
   "cell_type": "code",
   "execution_count": 4,
   "metadata": {},
   "outputs": [],
   "source": [
    "# cleaned_2015_output_path = 'Cleaned_Data/cleaned_2015.csv'\n",
    "# final_2015_df.to_csv(cleaned_2015_output_path, index=False)"
   ]
  },
  {
   "cell_type": "code",
   "execution_count": 5,
   "metadata": {},
   "outputs": [],
   "source": [
    "info_2016 = 'data/2016.csv'\n",
    "info_2016_df = pd.read_csv(info_2016)\n",
    "#info_2016_df.head()"
   ]
  },
  {
   "cell_type": "code",
   "execution_count": 6,
   "metadata": {},
   "outputs": [
    {
     "output_type": "execute_result",
     "data": {
      "text/plain": [
       "   Overall Rank Country or Region  Happiness Score  GDP per Capita  \\\n",
       "0             1           Denmark            7.526         1.44178   \n",
       "1             2       Switzerland            7.509         1.52733   \n",
       "2             3           Iceland            7.501         1.42666   \n",
       "3             4            Norway            7.498         1.57744   \n",
       "4             5           Finland            7.413         1.40598   \n",
       "\n",
       "   Social Support (Family)  Life Expectancy  Freedom  Generosity  \\\n",
       "0                  1.16374          0.79504  0.57941     0.36171   \n",
       "1                  1.14524          0.86303  0.58557     0.28083   \n",
       "2                  1.18326          0.86733  0.56624     0.47678   \n",
       "3                  1.12690          0.79579  0.59609     0.37895   \n",
       "4                  1.13464          0.81091  0.57104     0.25492   \n",
       "\n",
       "   Trust (Perception of Government Corruption)  \n",
       "0                                      0.44453  \n",
       "1                                      0.41203  \n",
       "2                                      0.14975  \n",
       "3                                      0.35776  \n",
       "4                                      0.41004  "
      ],
      "text/html": "<div>\n<style scoped>\n    .dataframe tbody tr th:only-of-type {\n        vertical-align: middle;\n    }\n\n    .dataframe tbody tr th {\n        vertical-align: top;\n    }\n\n    .dataframe thead th {\n        text-align: right;\n    }\n</style>\n<table border=\"1\" class=\"dataframe\">\n  <thead>\n    <tr style=\"text-align: right;\">\n      <th></th>\n      <th>Overall Rank</th>\n      <th>Country or Region</th>\n      <th>Happiness Score</th>\n      <th>GDP per Capita</th>\n      <th>Social Support (Family)</th>\n      <th>Life Expectancy</th>\n      <th>Freedom</th>\n      <th>Generosity</th>\n      <th>Trust (Perception of Government Corruption)</th>\n    </tr>\n  </thead>\n  <tbody>\n    <tr>\n      <th>0</th>\n      <td>1</td>\n      <td>Denmark</td>\n      <td>7.526</td>\n      <td>1.44178</td>\n      <td>1.16374</td>\n      <td>0.79504</td>\n      <td>0.57941</td>\n      <td>0.36171</td>\n      <td>0.44453</td>\n    </tr>\n    <tr>\n      <th>1</th>\n      <td>2</td>\n      <td>Switzerland</td>\n      <td>7.509</td>\n      <td>1.52733</td>\n      <td>1.14524</td>\n      <td>0.86303</td>\n      <td>0.58557</td>\n      <td>0.28083</td>\n      <td>0.41203</td>\n    </tr>\n    <tr>\n      <th>2</th>\n      <td>3</td>\n      <td>Iceland</td>\n      <td>7.501</td>\n      <td>1.42666</td>\n      <td>1.18326</td>\n      <td>0.86733</td>\n      <td>0.56624</td>\n      <td>0.47678</td>\n      <td>0.14975</td>\n    </tr>\n    <tr>\n      <th>3</th>\n      <td>4</td>\n      <td>Norway</td>\n      <td>7.498</td>\n      <td>1.57744</td>\n      <td>1.12690</td>\n      <td>0.79579</td>\n      <td>0.59609</td>\n      <td>0.37895</td>\n      <td>0.35776</td>\n    </tr>\n    <tr>\n      <th>4</th>\n      <td>5</td>\n      <td>Finland</td>\n      <td>7.413</td>\n      <td>1.40598</td>\n      <td>1.13464</td>\n      <td>0.81091</td>\n      <td>0.57104</td>\n      <td>0.25492</td>\n      <td>0.41004</td>\n    </tr>\n  </tbody>\n</table>\n</div>"
     },
     "metadata": {},
     "execution_count": 6
    }
   ],
   "source": [
    "cleaned_2016 = info_2016_df.drop(columns=['Region', 'Lower Confidence Interval', 'Upper Confidence Interval', 'Dystopia Residual'])\n",
    "\n",
    "cleaned_2016.rename(columns = {'Happiness Rank': 'Overall Rank', \n",
    "'Country':'Country or Region', \n",
    "'Happiness.Score': 'Happiness Score',\n",
    "'Economy (GDP per Capita)': 'GDP per Capita',\n",
    "'Family': 'Social Support (Family)',\n",
    "'Health (Life Expectancy)':'Life Expectancy',\n",
    "'Freedom':'Freedom',\n",
    "'Generosity':'Generosity',\n",
    "'Trust (Government Corruption)':'Trust (Perception of Government Corruption)'}, inplace = True)\n",
    "\n",
    "cleaned_2016_df = pd.DataFrame(cleaned_2016)\n",
    "final_2016_df = cleaned_2016_df[['Overall Rank', 'Country or Region', 'Happiness Score', 'GDP per Capita', 'Social Support (Family)', 'Life Expectancy', 'Freedom', 'Generosity', 'Trust (Perception of Government Corruption)']]\n",
    "\n",
    "final_2016_df.head()"
   ]
  },
  {
   "cell_type": "code",
   "execution_count": 7,
   "metadata": {},
   "outputs": [],
   "source": [
    "# cleaned_2016_output_path = 'Cleaned_Data/cleaned_2016.csv'\n",
    "# final_2016_df.to_csv(cleaned_2016_output_path, index=False)"
   ]
  },
  {
   "cell_type": "code",
   "execution_count": 8,
   "metadata": {},
   "outputs": [],
   "source": [
    "info_2017 = 'data/2017.csv'\n",
    "info_2017_df = pd.read_csv(info_2017)\n",
    "#info_2017_df.head()"
   ]
  },
  {
   "cell_type": "code",
   "execution_count": 9,
   "metadata": {},
   "outputs": [
    {
     "output_type": "execute_result",
     "data": {
      "text/plain": [
       "   Overall Rank Country or Region  Happiness Score  GDP per Capita  \\\n",
       "0             1            Norway            7.537        1.616463   \n",
       "1             2           Denmark            7.522        1.482383   \n",
       "2             3           Iceland            7.504        1.480633   \n",
       "3             4       Switzerland            7.494        1.564980   \n",
       "4             5           Finland            7.469        1.443572   \n",
       "\n",
       "   Social Support (Family)  Life Expectancy   Freedom  Generosity  \\\n",
       "0                 1.533524         0.796667  0.635423    0.362012   \n",
       "1                 1.551122         0.792566  0.626007    0.355280   \n",
       "2                 1.610574         0.833552  0.627163    0.475540   \n",
       "3                 1.516912         0.858131  0.620071    0.290549   \n",
       "4                 1.540247         0.809158  0.617951    0.245483   \n",
       "\n",
       "   Trust (Perception of Government Corruption)  \n",
       "0                                     0.315964  \n",
       "1                                     0.400770  \n",
       "2                                     0.153527  \n",
       "3                                     0.367007  \n",
       "4                                     0.382612  "
      ],
      "text/html": "<div>\n<style scoped>\n    .dataframe tbody tr th:only-of-type {\n        vertical-align: middle;\n    }\n\n    .dataframe tbody tr th {\n        vertical-align: top;\n    }\n\n    .dataframe thead th {\n        text-align: right;\n    }\n</style>\n<table border=\"1\" class=\"dataframe\">\n  <thead>\n    <tr style=\"text-align: right;\">\n      <th></th>\n      <th>Overall Rank</th>\n      <th>Country or Region</th>\n      <th>Happiness Score</th>\n      <th>GDP per Capita</th>\n      <th>Social Support (Family)</th>\n      <th>Life Expectancy</th>\n      <th>Freedom</th>\n      <th>Generosity</th>\n      <th>Trust (Perception of Government Corruption)</th>\n    </tr>\n  </thead>\n  <tbody>\n    <tr>\n      <th>0</th>\n      <td>1</td>\n      <td>Norway</td>\n      <td>7.537</td>\n      <td>1.616463</td>\n      <td>1.533524</td>\n      <td>0.796667</td>\n      <td>0.635423</td>\n      <td>0.362012</td>\n      <td>0.315964</td>\n    </tr>\n    <tr>\n      <th>1</th>\n      <td>2</td>\n      <td>Denmark</td>\n      <td>7.522</td>\n      <td>1.482383</td>\n      <td>1.551122</td>\n      <td>0.792566</td>\n      <td>0.626007</td>\n      <td>0.355280</td>\n      <td>0.400770</td>\n    </tr>\n    <tr>\n      <th>2</th>\n      <td>3</td>\n      <td>Iceland</td>\n      <td>7.504</td>\n      <td>1.480633</td>\n      <td>1.610574</td>\n      <td>0.833552</td>\n      <td>0.627163</td>\n      <td>0.475540</td>\n      <td>0.153527</td>\n    </tr>\n    <tr>\n      <th>3</th>\n      <td>4</td>\n      <td>Switzerland</td>\n      <td>7.494</td>\n      <td>1.564980</td>\n      <td>1.516912</td>\n      <td>0.858131</td>\n      <td>0.620071</td>\n      <td>0.290549</td>\n      <td>0.367007</td>\n    </tr>\n    <tr>\n      <th>4</th>\n      <td>5</td>\n      <td>Finland</td>\n      <td>7.469</td>\n      <td>1.443572</td>\n      <td>1.540247</td>\n      <td>0.809158</td>\n      <td>0.617951</td>\n      <td>0.245483</td>\n      <td>0.382612</td>\n    </tr>\n  </tbody>\n</table>\n</div>"
     },
     "metadata": {},
     "execution_count": 9
    }
   ],
   "source": [
    "cleaned_2017 = info_2017_df.drop(columns=['Whisker.high', 'Whisker.low', 'Dystopia.Residual'])\n",
    "\n",
    "cleaned_2017.rename(columns = {'Happiness.Rank': 'Overall Rank', \n",
    "'Country':'Country or Region', \n",
    "'Happiness.Score': 'Happiness Score',\n",
    "'Economy..GDP.per.Capita.': 'GDP per Capita',\n",
    "'Family': 'Social Support (Family)',\n",
    "'Health..Life.Expectancy.':'Life Expectancy',\n",
    "'Freedom':'Freedom',\n",
    "'Generosity':'Generosity',\n",
    "'Trust..Government.Corruption.':'Trust (Perception of Government Corruption)'}, inplace = True)\n",
    "\n",
    "cleaned_2017_df = pd.DataFrame(cleaned_2017)\n",
    "final_2017_df = cleaned_2017_df[['Overall Rank', 'Country or Region', 'Happiness Score', 'GDP per Capita', 'Social Support (Family)', 'Life Expectancy', 'Freedom', 'Generosity', 'Trust (Perception of Government Corruption)']]\n",
    "\n",
    "final_2017_df.head()"
   ]
  },
  {
   "cell_type": "code",
   "execution_count": 10,
   "metadata": {},
   "outputs": [],
   "source": [
    "# cleaned_2017_output_path = 'Cleaned_Data/cleaned_2017.csv'\n",
    "# final_2017_df.to_csv(cleaned_2017_output_path, index=False)"
   ]
  },
  {
   "cell_type": "code",
   "execution_count": 11,
   "metadata": {},
   "outputs": [],
   "source": [
    "info_2018 = 'data/2018.csv'\n",
    "info_2018_df = pd.read_csv(info_2018)\n",
    "#info_2018_df.head()"
   ]
  },
  {
   "cell_type": "code",
   "execution_count": 12,
   "metadata": {},
   "outputs": [
    {
     "output_type": "execute_result",
     "data": {
      "text/plain": [
       "   Overall Rank Country or Region  Happiness Score  GDP per Capita  \\\n",
       "0             1           Finland            7.632           1.305   \n",
       "1             2            Norway            7.594           1.456   \n",
       "2             3           Denmark            7.555           1.351   \n",
       "3             4           Iceland            7.495           1.343   \n",
       "4             5       Switzerland            7.487           1.420   \n",
       "\n",
       "   Social Support (Family)  Life Expectancy  Freedom  Generosity  \\\n",
       "0                    1.592            0.874    0.681       0.202   \n",
       "1                    1.582            0.861    0.686       0.286   \n",
       "2                    1.590            0.868    0.683       0.284   \n",
       "3                    1.644            0.914    0.677       0.353   \n",
       "4                    1.549            0.927    0.660       0.256   \n",
       "\n",
       "   Trust (Perception of Government Corruption)  \n",
       "0                                        0.393  \n",
       "1                                        0.340  \n",
       "2                                        0.408  \n",
       "3                                        0.138  \n",
       "4                                        0.357  "
      ],
      "text/html": "<div>\n<style scoped>\n    .dataframe tbody tr th:only-of-type {\n        vertical-align: middle;\n    }\n\n    .dataframe tbody tr th {\n        vertical-align: top;\n    }\n\n    .dataframe thead th {\n        text-align: right;\n    }\n</style>\n<table border=\"1\" class=\"dataframe\">\n  <thead>\n    <tr style=\"text-align: right;\">\n      <th></th>\n      <th>Overall Rank</th>\n      <th>Country or Region</th>\n      <th>Happiness Score</th>\n      <th>GDP per Capita</th>\n      <th>Social Support (Family)</th>\n      <th>Life Expectancy</th>\n      <th>Freedom</th>\n      <th>Generosity</th>\n      <th>Trust (Perception of Government Corruption)</th>\n    </tr>\n  </thead>\n  <tbody>\n    <tr>\n      <th>0</th>\n      <td>1</td>\n      <td>Finland</td>\n      <td>7.632</td>\n      <td>1.305</td>\n      <td>1.592</td>\n      <td>0.874</td>\n      <td>0.681</td>\n      <td>0.202</td>\n      <td>0.393</td>\n    </tr>\n    <tr>\n      <th>1</th>\n      <td>2</td>\n      <td>Norway</td>\n      <td>7.594</td>\n      <td>1.456</td>\n      <td>1.582</td>\n      <td>0.861</td>\n      <td>0.686</td>\n      <td>0.286</td>\n      <td>0.340</td>\n    </tr>\n    <tr>\n      <th>2</th>\n      <td>3</td>\n      <td>Denmark</td>\n      <td>7.555</td>\n      <td>1.351</td>\n      <td>1.590</td>\n      <td>0.868</td>\n      <td>0.683</td>\n      <td>0.284</td>\n      <td>0.408</td>\n    </tr>\n    <tr>\n      <th>3</th>\n      <td>4</td>\n      <td>Iceland</td>\n      <td>7.495</td>\n      <td>1.343</td>\n      <td>1.644</td>\n      <td>0.914</td>\n      <td>0.677</td>\n      <td>0.353</td>\n      <td>0.138</td>\n    </tr>\n    <tr>\n      <th>4</th>\n      <td>5</td>\n      <td>Switzerland</td>\n      <td>7.487</td>\n      <td>1.420</td>\n      <td>1.549</td>\n      <td>0.927</td>\n      <td>0.660</td>\n      <td>0.256</td>\n      <td>0.357</td>\n    </tr>\n  </tbody>\n</table>\n</div>"
     },
     "metadata": {},
     "execution_count": 12
    }
   ],
   "source": [
    "cleaned_2018 = info_2018_df.rename(columns = {'Overall rank': 'Overall Rank', \n",
    "'Country or region':'Country or Region', \n",
    "'Score':'Happiness Score',\n",
    "'GDP per capita': 'GDP per Capita',\n",
    "'Social support': 'Social Support (Family)',\n",
    "'Healthy life expectancy':'Life Expectancy',\n",
    "'Freedom to make life choices':'Freedom',\n",
    "'Generosity':'Generosity',\n",
    "'Perceptions of corruption':'Trust (Perception of Government Corruption)'}, inplace = False)\n",
    "\n",
    "final_2018_df = pd.DataFrame(cleaned_2018)\n",
    "\n",
    "final_2018_df.head()"
   ]
  },
  {
   "cell_type": "code",
   "execution_count": 13,
   "metadata": {},
   "outputs": [],
   "source": [
    "# cleaned_2018_output_path = 'Cleaned_Data/cleaned_2018.csv'\n",
    "# final_2018_df.to_csv(cleaned_2018_output_path, index=False)"
   ]
  },
  {
   "cell_type": "code",
   "execution_count": 14,
   "metadata": {},
   "outputs": [],
   "source": [
    "info_2019 = 'data/2019.csv'\n",
    "info_2019_df = pd.read_csv(info_2019)\n",
    "#info_2019_df.head()"
   ]
  },
  {
   "cell_type": "code",
   "execution_count": 15,
   "metadata": {},
   "outputs": [
    {
     "output_type": "execute_result",
     "data": {
      "text/plain": [
       "   Overall Rank Country or Region  Happiness Score  GDP per Capita  \\\n",
       "0             1           Finland            7.769           1.340   \n",
       "1             2           Denmark            7.600           1.383   \n",
       "2             3            Norway            7.554           1.488   \n",
       "3             4           Iceland            7.494           1.380   \n",
       "4             5       Netherlands            7.488           1.396   \n",
       "\n",
       "   Social Support (Family)  Life Expectancy  Freedom  Generosity  \\\n",
       "0                    1.587            0.986    0.596       0.153   \n",
       "1                    1.573            0.996    0.592       0.252   \n",
       "2                    1.582            1.028    0.603       0.271   \n",
       "3                    1.624            1.026    0.591       0.354   \n",
       "4                    1.522            0.999    0.557       0.322   \n",
       "\n",
       "   Trust (Perception of Government Corruption)  \n",
       "0                                        0.393  \n",
       "1                                        0.410  \n",
       "2                                        0.341  \n",
       "3                                        0.118  \n",
       "4                                        0.298  "
      ],
      "text/html": "<div>\n<style scoped>\n    .dataframe tbody tr th:only-of-type {\n        vertical-align: middle;\n    }\n\n    .dataframe tbody tr th {\n        vertical-align: top;\n    }\n\n    .dataframe thead th {\n        text-align: right;\n    }\n</style>\n<table border=\"1\" class=\"dataframe\">\n  <thead>\n    <tr style=\"text-align: right;\">\n      <th></th>\n      <th>Overall Rank</th>\n      <th>Country or Region</th>\n      <th>Happiness Score</th>\n      <th>GDP per Capita</th>\n      <th>Social Support (Family)</th>\n      <th>Life Expectancy</th>\n      <th>Freedom</th>\n      <th>Generosity</th>\n      <th>Trust (Perception of Government Corruption)</th>\n    </tr>\n  </thead>\n  <tbody>\n    <tr>\n      <th>0</th>\n      <td>1</td>\n      <td>Finland</td>\n      <td>7.769</td>\n      <td>1.340</td>\n      <td>1.587</td>\n      <td>0.986</td>\n      <td>0.596</td>\n      <td>0.153</td>\n      <td>0.393</td>\n    </tr>\n    <tr>\n      <th>1</th>\n      <td>2</td>\n      <td>Denmark</td>\n      <td>7.600</td>\n      <td>1.383</td>\n      <td>1.573</td>\n      <td>0.996</td>\n      <td>0.592</td>\n      <td>0.252</td>\n      <td>0.410</td>\n    </tr>\n    <tr>\n      <th>2</th>\n      <td>3</td>\n      <td>Norway</td>\n      <td>7.554</td>\n      <td>1.488</td>\n      <td>1.582</td>\n      <td>1.028</td>\n      <td>0.603</td>\n      <td>0.271</td>\n      <td>0.341</td>\n    </tr>\n    <tr>\n      <th>3</th>\n      <td>4</td>\n      <td>Iceland</td>\n      <td>7.494</td>\n      <td>1.380</td>\n      <td>1.624</td>\n      <td>1.026</td>\n      <td>0.591</td>\n      <td>0.354</td>\n      <td>0.118</td>\n    </tr>\n    <tr>\n      <th>4</th>\n      <td>5</td>\n      <td>Netherlands</td>\n      <td>7.488</td>\n      <td>1.396</td>\n      <td>1.522</td>\n      <td>0.999</td>\n      <td>0.557</td>\n      <td>0.322</td>\n      <td>0.298</td>\n    </tr>\n  </tbody>\n</table>\n</div>"
     },
     "metadata": {},
     "execution_count": 15
    }
   ],
   "source": [
    "cleaned_2019 = info_2019_df.rename(columns = {'Overall rank': 'Overall Rank', \n",
    "'Country or region':'Country or Region', \n",
    "'Score':'Happiness Score',\n",
    "'GDP per capita': 'GDP per Capita',\n",
    "'Social support': 'Social Support (Family)',\n",
    "'Healthy life expectancy':'Life Expectancy',\n",
    "'Freedom to make life choices':'Freedom',\n",
    "'Generosity':'Generosity',\n",
    "'Perceptions of corruption':'Trust (Perception of Government Corruption)'}, inplace = False)\n",
    "\n",
    "final_2019_df = pd.DataFrame(cleaned_2019)\n",
    "\n",
    "final_2019_df.head()"
   ]
  },
  {
   "cell_type": "code",
   "execution_count": 16,
   "metadata": {},
   "outputs": [],
   "source": [
    "# cleaned_2019_output_path = 'Cleaned_Data/cleaned_2019.csv'\n",
    "# final_2019_df.to_csv(cleaned_2019_output_path, index=False)"
   ]
  },
  {
   "cell_type": "code",
   "execution_count": 20,
   "metadata": {},
   "outputs": [],
   "source": [
    "conn = sqlite3.connect('word_happiness.db')\n",
    "c = conn.cursor()"
   ]
  },
  {
   "cell_type": "code",
   "execution_count": 22,
   "metadata": {},
   "outputs": [
    {
     "output_type": "stream",
     "name": "stderr",
     "text": [
      "C:\\Users\\Collin\\anaconda3\\lib\\site-packages\\pandas\\core\\generic.py:2653: UserWarning: The spaces in these column names will not be changed. In pandas versions < 0.14, spaces were converted to underscores.\n  sql.to_sql(\n"
     ]
    }
   ],
   "source": [
    "pd.read_csv('Cleaned_Data/cleaned_2015.csv').to_sql('world_happiness.db', conn, if_exists='append', index=False)"
   ]
  },
  {
   "cell_type": "code",
   "execution_count": null,
   "metadata": {},
   "outputs": [],
   "source": [
    "pd.read_csv('Cleaned_Data/cleaned_2016.csv').to_sql('world_happiness.db', conn, if_exists='append', index=False)"
   ]
  }
 ]
}